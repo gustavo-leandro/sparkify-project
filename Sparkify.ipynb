{
 "cells": [
  {
   "cell_type": "markdown",
   "metadata": {},
   "source": [
    "# Sparkify Project Workspace\n",
    "This workspace contains a tiny subset (128MB) of the full dataset available (12GB). Feel free to use this workspace to build your project, or to explore a smaller subset with Spark before deploying your cluster on the cloud. Instructions for setting up your Spark cluster is included in the last lesson of the Extracurricular Spark Course content.\n",
    "\n",
    "You can follow the steps below to guide your data analysis and model building portion of this project."
   ]
  },
  {
   "cell_type": "code",
   "execution_count": 77,
   "metadata": {},
   "outputs": [],
   "source": [
    "# import libraries\n",
    "\n",
    "import datetime\n",
    "import pandas as pd\n",
    "\n",
    "from pyspark.sql import SparkSession\n",
    "from pyspark.sql.functions import udf, lit, col, desc, current_date, datediff, count\n",
    "from pyspark.sql.functions import sum as sum_\n",
    "from pyspark.sql.functions import max as max_\n",
    "from pyspark.sql.functions import round as round_\n",
    "from pyspark.sql.types import IntegerType\n",
    "\n",
    "from pyspark.ml import Pipeline\n",
    "from pyspark.ml.feature import VectorAssembler, StandardScaler\n",
    "from pyspark.ml.classification import LogisticRegression, RandomForestClassifier, GBTClassifier\n",
    "from pyspark.ml.evaluation import MulticlassClassificationEvaluator\n",
    "from pyspark.ml.tuning import ParamGridBuilder, CrossValidator"
   ]
  },
  {
   "cell_type": "code",
   "execution_count": 2,
   "metadata": {},
   "outputs": [],
   "source": [
    "# create a Spark session\n",
    "\n",
    "spark = SparkSession.builder \\\n",
    "    .master(\"local\") \\\n",
    "    .appName(\"Sparkify Project\") \\\n",
    "    .getOrCreate()"
   ]
  },
  {
   "cell_type": "markdown",
   "metadata": {},
   "source": [
    "# Load and Clean Dataset\n",
    "In this workspace, the mini-dataset file is `mini_sparkify_event_data.json`. Load and clean the dataset, checking for invalid or missing data - for example, records without userids or sessionids. "
   ]
  },
  {
   "cell_type": "code",
   "execution_count": 3,
   "metadata": {},
   "outputs": [],
   "source": [
    "dfRaw = spark.read.json('mini_sparkify_event_data.json')"
   ]
  },
  {
   "cell_type": "code",
   "execution_count": 4,
   "metadata": {
    "scrolled": false
   },
   "outputs": [
    {
     "name": "stdout",
     "output_type": "stream",
     "text": [
      "root\n",
      " |-- artist: string (nullable = true)\n",
      " |-- auth: string (nullable = true)\n",
      " |-- firstName: string (nullable = true)\n",
      " |-- gender: string (nullable = true)\n",
      " |-- itemInSession: long (nullable = true)\n",
      " |-- lastName: string (nullable = true)\n",
      " |-- length: double (nullable = true)\n",
      " |-- level: string (nullable = true)\n",
      " |-- location: string (nullable = true)\n",
      " |-- method: string (nullable = true)\n",
      " |-- page: string (nullable = true)\n",
      " |-- registration: long (nullable = true)\n",
      " |-- sessionId: long (nullable = true)\n",
      " |-- song: string (nullable = true)\n",
      " |-- status: long (nullable = true)\n",
      " |-- ts: long (nullable = true)\n",
      " |-- userAgent: string (nullable = true)\n",
      " |-- userId: string (nullable = true)\n",
      "\n"
     ]
    }
   ],
   "source": [
    "dfRaw.printSchema()"
   ]
  },
  {
   "cell_type": "code",
   "execution_count": 5,
   "metadata": {},
   "outputs": [
    {
     "data": {
      "text/plain": [
       "Row(artist='Martha Tilston', auth='Logged In', firstName='Colin', gender='M', itemInSession=50, lastName='Freeman', length=277.89016, level='paid', location='Bakersfield, CA', method='PUT', page='NextSong', registration=1538173362000, sessionId=29, song='Rockpools', status=200, ts=1538352117000, userAgent='Mozilla/5.0 (Windows NT 6.1; WOW64; rv:31.0) Gecko/20100101 Firefox/31.0', userId='30')"
      ]
     },
     "execution_count": 5,
     "metadata": {},
     "output_type": "execute_result"
    }
   ],
   "source": [
    "dfRaw.head()"
   ]
  },
  {
   "cell_type": "code",
   "execution_count": 6,
   "metadata": {
    "scrolled": true
   },
   "outputs": [
    {
     "name": "stdout",
     "output_type": "stream",
     "text": [
      "+-------+-----------------+\n",
      "|summary|           userId|\n",
      "+-------+-----------------+\n",
      "|  count|           286500|\n",
      "|   mean|59682.02278593872|\n",
      "| stddev|109091.9499991047|\n",
      "|    min|                 |\n",
      "|    max|               99|\n",
      "+-------+-----------------+\n",
      "\n",
      "+-------+-----------------+\n",
      "|summary|        sessionId|\n",
      "+-------+-----------------+\n",
      "|  count|           286500|\n",
      "|   mean|1041.526554973822|\n",
      "| stddev|726.7762634630741|\n",
      "|    min|                1|\n",
      "|    max|             2474|\n",
      "+-------+-----------------+\n",
      "\n"
     ]
    }
   ],
   "source": [
    "dfRaw.describe(\"userId\").show()\n",
    "dfRaw.describe(\"sessionId\").show()"
   ]
  },
  {
   "cell_type": "code",
   "execution_count": 7,
   "metadata": {},
   "outputs": [
    {
     "name": "stdout",
     "output_type": "stream",
     "text": [
      "# of null userIds: 0\n",
      "# of null sessionIds: 0\n"
     ]
    }
   ],
   "source": [
    "print(f'# of null userIds: {dfRaw.filter(dfRaw.userId.isNull()).count()}')\n",
    "print(f'# of null sessionIds: {dfRaw.filter(dfRaw.sessionId.isNull()).count()}')"
   ]
  },
  {
   "cell_type": "code",
   "execution_count": 8,
   "metadata": {},
   "outputs": [
    {
     "name": "stdout",
     "output_type": "stream",
     "text": [
      "# of empty userIds: 8346\n",
      "# of empty sessionIds: 0\n"
     ]
    }
   ],
   "source": [
    "print(f'# of empty userIds: {dfRaw.filter(dfRaw.userId == \"\").count()}')\n",
    "print(f'# of empty sessionIds: {dfRaw.filter(dfRaw.sessionId == \"\").count()}')"
   ]
  },
  {
   "cell_type": "code",
   "execution_count": 9,
   "metadata": {},
   "outputs": [],
   "source": [
    "emptyUserId = dfRaw.filter(dfRaw.userId == \"\")"
   ]
  },
  {
   "cell_type": "code",
   "execution_count": 10,
   "metadata": {
    "scrolled": true
   },
   "outputs": [
    {
     "name": "stdout",
     "output_type": "stream",
     "text": [
      "+----------+------+\n",
      "|      auth| count|\n",
      "+----------+------+\n",
      "|Logged Out|  8249|\n",
      "| Cancelled|    52|\n",
      "|     Guest|    97|\n",
      "| Logged In|278102|\n",
      "+----------+------+\n",
      "\n",
      "+----------+-----+\n",
      "|      auth|count|\n",
      "+----------+-----+\n",
      "|Logged Out| 8249|\n",
      "|     Guest|   97|\n",
      "+----------+-----+\n",
      "\n"
     ]
    }
   ],
   "source": [
    "dfRaw.groupby(dfRaw.auth).count().show()\n",
    "emptyUserId.groupby(emptyUserId.auth).count().show()"
   ]
  },
  {
   "cell_type": "code",
   "execution_count": 11,
   "metadata": {
    "scrolled": true
   },
   "outputs": [
    {
     "name": "stdout",
     "output_type": "stream",
     "text": [
      "+--------------------+------+\n",
      "|                page| count|\n",
      "+--------------------+------+\n",
      "|              Cancel|    52|\n",
      "|    Submit Downgrade|    63|\n",
      "|         Thumbs Down|  2546|\n",
      "|                Home| 14457|\n",
      "|           Downgrade|  2055|\n",
      "|         Roll Advert|  3933|\n",
      "|              Logout|  3226|\n",
      "|       Save Settings|   310|\n",
      "|Cancellation Conf...|    52|\n",
      "|               About|   924|\n",
      "| Submit Registration|     5|\n",
      "|            Settings|  1514|\n",
      "|               Login|  3241|\n",
      "|            Register|    18|\n",
      "|     Add to Playlist|  6526|\n",
      "|          Add Friend|  4277|\n",
      "|            NextSong|228108|\n",
      "|           Thumbs Up| 12551|\n",
      "|                Help|  1726|\n",
      "|             Upgrade|   499|\n",
      "+--------------------+------+\n",
      "only showing top 20 rows\n",
      "\n",
      "+-------------------+-----+\n",
      "|               page|count|\n",
      "+-------------------+-----+\n",
      "|               Home| 4375|\n",
      "|              About|  429|\n",
      "|Submit Registration|    5|\n",
      "|              Login| 3241|\n",
      "|           Register|   18|\n",
      "|               Help|  272|\n",
      "|              Error|    6|\n",
      "+-------------------+-----+\n",
      "\n"
     ]
    }
   ],
   "source": [
    "dfRaw.groupby(dfRaw.page).count().show()\n",
    "emptyUserId.groupby(emptyUserId.page).count().show()"
   ]
  },
  {
   "cell_type": "code",
   "execution_count": 12,
   "metadata": {},
   "outputs": [],
   "source": [
    "validUsers = dfRaw.filter(dfRaw.userId != \"\")"
   ]
  },
  {
   "cell_type": "markdown",
   "metadata": {},
   "source": [
    "# Exploratory Data Analysis\n",
    "When you're working with the full dataset, perform EDA by loading a small subset of the data and doing basic manipulations within Spark. In this workspace, you are already provided a small subset of data you can explore.\n",
    "\n",
    "### Define Churn\n",
    "\n",
    "Once you've done some preliminary analysis, create a column `Churn` to use as the label for your model. I suggest using the `Cancellation Confirmation` events to define your churn, which happen for both paid and free users. As a bonus task, you can also look into the `Downgrade` events.\n",
    "\n",
    "### Explore Data\n",
    "Once you've defined churn, perform some exploratory data analysis to observe the behavior for users who stayed vs users who churned. You can start by exploring aggregates on these two groups of users, observing how much of a specific action they experienced per a certain time unit or number of songs played."
   ]
  },
  {
   "cell_type": "code",
   "execution_count": 13,
   "metadata": {},
   "outputs": [],
   "source": [
    "get_hour = udf(lambda x: datetime.datetime.fromtimestamp(x / 1000.0).hour)\n",
    "get_date = udf(lambda x: datetime.datetime.fromtimestamp(x / 1000.0).strftime('%Y-%m-%d'))"
   ]
  },
  {
   "cell_type": "code",
   "execution_count": 14,
   "metadata": {},
   "outputs": [],
   "source": [
    "validUsers = validUsers.withColumn(\"hour\", get_hour(validUsers.ts).cast(\"float\"))\n",
    "validUsers = validUsers.withColumn(\"date\", get_date(validUsers.ts))"
   ]
  },
  {
   "cell_type": "code",
   "execution_count": 15,
   "metadata": {},
   "outputs": [],
   "source": [
    "churnUsers = validUsers.filter(validUsers.page == 'Cancellation Confirmation').select('userId')\n",
    "churnUsers = churnUsers.withColumn(\"churn\", lit(1))\n",
    "churnUsers=churnUsers.select(col(\"userId\").alias(\"userId_a\"), col(\"churn\"))\n",
    "\n",
    "validUsers = validUsers.join(churnUsers, validUsers.userId == churnUsers.userId_a, 'left')\n",
    "validUsers = validUsers.drop(validUsers.userId_a)"
   ]
  },
  {
   "cell_type": "code",
   "execution_count": 16,
   "metadata": {},
   "outputs": [],
   "source": [
    "downUsers = validUsers.filter(validUsers.page == 'Submit Downgrade').select('userId')\n",
    "downUsers = downUsers.withColumn(\"downgrade\", lit(1))\n",
    "downUsers=downUsers.select(col(\"userId\").alias(\"userId_b\"), col(\"downgrade\"))\n",
    "\n",
    "validUsers = validUsers.join(downUsers, validUsers.userId == downUsers.userId_b, 'left')\n",
    "validUsers = validUsers.drop(validUsers.userId_b)"
   ]
  },
  {
   "cell_type": "code",
   "execution_count": 17,
   "metadata": {},
   "outputs": [],
   "source": [
    "churnedDf = validUsers.filter(validUsers.churn == 1).select(['userId','gender','page','hour','date', 'downgrade','level','ts','registration'])\n",
    "nChurnedDf = validUsers.filter(validUsers.churn.isNull()).select(['userId','gender','page','hour','date', 'downgrade','level','ts','registration'])"
   ]
  },
  {
   "cell_type": "markdown",
   "metadata": {},
   "source": [
    "### Analise de musicas"
   ]
  },
  {
   "cell_type": "code",
   "execution_count": 18,
   "metadata": {},
   "outputs": [],
   "source": [
    "churnedSongs = churnedDf.filter(churnedDf.page == 'NextSong')\n",
    "nChurnedSongs = nChurnedDf.filter(nChurnedDf.page == 'NextSong')"
   ]
  },
  {
   "cell_type": "code",
   "execution_count": 19,
   "metadata": {},
   "outputs": [],
   "source": [
    "numUsersChurn = churnUsers.count()\n",
    "numUsersNChurn = nChurnedSongs.select(nChurnedSongs.userId).dropDuplicates().count()"
   ]
  },
  {
   "cell_type": "code",
   "execution_count": 20,
   "metadata": {},
   "outputs": [
    {
     "data": {
      "text/plain": [
       "699.8846153846154"
      ]
     },
     "execution_count": 20,
     "metadata": {},
     "output_type": "execute_result"
    }
   ],
   "source": [
    "# média de musicas por usuario que churn\n",
    "churnedSongs.count() / numUsersChurn"
   ]
  },
  {
   "cell_type": "code",
   "execution_count": 21,
   "metadata": {
    "scrolled": false
   },
   "outputs": [
    {
     "data": {
      "text/plain": [
       "1365.2890173410406"
      ]
     },
     "execution_count": 21,
     "metadata": {},
     "output_type": "execute_result"
    }
   ],
   "source": [
    "# média de musicas por usuario que não churn\n",
    "nChurnedSongs.count() / numUsersNChurn"
   ]
  },
  {
   "cell_type": "markdown",
   "metadata": {},
   "source": [
    "#### Analise de churned por data"
   ]
  },
  {
   "cell_type": "code",
   "execution_count": 22,
   "metadata": {},
   "outputs": [],
   "source": [
    "songByDay = churnedSongs.groupby(churnedSongs.date).count().orderBy(churnedSongs.date).select(col(\"date\").alias(\"date_a\"), col(\"count\").alias(\"qtdSongs\"))\n",
    "userByDay = churnedSongs.select(['date','userId']).dropDuplicates().groupby(churnedSongs.date).count().orderBy(churnedSongs.date).select(col(\"date\").alias(\"date_b\"), col(\"count\").alias(\"qtdUsers\"))"
   ]
  },
  {
   "cell_type": "code",
   "execution_count": 23,
   "metadata": {},
   "outputs": [],
   "source": [
    "songsByUserDay = songByDay.join(userByDay, songByDay.date_a == userByDay.date_b, 'left').orderBy(songByDay.date_a)\n",
    "songsByUserDay = songsByUserDay.withColumn(\"songs_user\", songsByUserDay.qtdSongs/songsByUserDay.qtdUsers).drop(songsByUserDay.date_b)"
   ]
  },
  {
   "cell_type": "code",
   "execution_count": 24,
   "metadata": {},
   "outputs": [],
   "source": [
    "pdSongsDayChurn = songsByUserDay.toPandas()"
   ]
  },
  {
   "cell_type": "code",
   "execution_count": 25,
   "metadata": {},
   "outputs": [
    {
     "data": {
      "text/html": [
       "<div>\n",
       "<style scoped>\n",
       "    .dataframe tbody tr th:only-of-type {\n",
       "        vertical-align: middle;\n",
       "    }\n",
       "\n",
       "    .dataframe tbody tr th {\n",
       "        vertical-align: top;\n",
       "    }\n",
       "\n",
       "    .dataframe thead th {\n",
       "        text-align: right;\n",
       "    }\n",
       "</style>\n",
       "<table border=\"1\" class=\"dataframe\">\n",
       "  <thead>\n",
       "    <tr style=\"text-align: right;\">\n",
       "      <th></th>\n",
       "      <th>date_a</th>\n",
       "      <th>qtdSongs</th>\n",
       "      <th>qtdUsers</th>\n",
       "      <th>songs_user</th>\n",
       "    </tr>\n",
       "  </thead>\n",
       "  <tbody>\n",
       "    <tr>\n",
       "      <th>0</th>\n",
       "      <td>2018-10-01</td>\n",
       "      <td>870</td>\n",
       "      <td>18</td>\n",
       "      <td>48.333333</td>\n",
       "    </tr>\n",
       "    <tr>\n",
       "      <th>1</th>\n",
       "      <td>2018-10-02</td>\n",
       "      <td>1431</td>\n",
       "      <td>19</td>\n",
       "      <td>75.315789</td>\n",
       "    </tr>\n",
       "    <tr>\n",
       "      <th>2</th>\n",
       "      <td>2018-10-03</td>\n",
       "      <td>1307</td>\n",
       "      <td>21</td>\n",
       "      <td>62.238095</td>\n",
       "    </tr>\n",
       "    <tr>\n",
       "      <th>3</th>\n",
       "      <td>2018-10-04</td>\n",
       "      <td>1157</td>\n",
       "      <td>20</td>\n",
       "      <td>57.850000</td>\n",
       "    </tr>\n",
       "    <tr>\n",
       "      <th>4</th>\n",
       "      <td>2018-10-05</td>\n",
       "      <td>1329</td>\n",
       "      <td>18</td>\n",
       "      <td>73.833333</td>\n",
       "    </tr>\n",
       "  </tbody>\n",
       "</table>\n",
       "</div>"
      ],
      "text/plain": [
       "       date_a  qtdSongs  qtdUsers  songs_user\n",
       "0  2018-10-01       870        18   48.333333\n",
       "1  2018-10-02      1431        19   75.315789\n",
       "2  2018-10-03      1307        21   62.238095\n",
       "3  2018-10-04      1157        20   57.850000\n",
       "4  2018-10-05      1329        18   73.833333"
      ]
     },
     "execution_count": 25,
     "metadata": {},
     "output_type": "execute_result"
    }
   ],
   "source": [
    "pdSongsDayChurn.head()"
   ]
  },
  {
   "cell_type": "code",
   "execution_count": 26,
   "metadata": {
    "scrolled": true
   },
   "outputs": [
    {
     "data": {
      "text/plain": [
       "<matplotlib.axes._subplots.AxesSubplot at 0x7f54908de860>"
      ]
     },
     "execution_count": 26,
     "metadata": {},
     "output_type": "execute_result"
    }
   ],
   "source": [
    "pdSongsDayChurn[['date_a','qtdSongs']].plot.line(figsize=(15,5))"
   ]
  },
  {
   "cell_type": "code",
   "execution_count": 27,
   "metadata": {
    "scrolled": false
   },
   "outputs": [
    {
     "data": {
      "text/plain": [
       "<matplotlib.axes._subplots.AxesSubplot at 0x7f54905e6b00>"
      ]
     },
     "execution_count": 27,
     "metadata": {},
     "output_type": "execute_result"
    },
    {
     "data": {
      "image/png": "[encoded data removed]",
      "text/plain": [
       "<matplotlib.figure.Figure at 0x7f5490651cf8>"
      ]
     },
     "metadata": {
      "needs_background": "light"
     },
     "output_type": "display_data"
    }
   ],
   "source": [
    "pdSongsDayChurn[['date_a','qtdUsers']].plot.line(figsize=(15,5))"
   ]
  },
  {
   "cell_type": "code",
   "execution_count": 28,
   "metadata": {
    "scrolled": true
   },
   "outputs": [
    {
     "data": {
      "text/plain": [
       "<matplotlib.axes._subplots.AxesSubplot at 0x7f549027bac8>"
      ]
     },
     "execution_count": 28,
     "metadata": {},
     "output_type": "execute_result"
    },
    {
     "data": {
      "image/png": "[encoded data removed]",
      "text/plain": [
       "<matplotlib.figure.Figure at 0x7f549028ee48>"
      ]
     },
     "metadata": {
      "needs_background": "light"
     },
     "output_type": "display_data"
    }
   ],
   "source": [
    "pdSongsDayChurn[['date_a','songs_user']].plot.bar(figsize=(15,5))"
   ]
  },
  {
   "cell_type": "markdown",
   "metadata": {},
   "source": [
    "#### Analise de não churned por data"
   ]
  },
  {
   "cell_type": "code",
   "execution_count": 29,
   "metadata": {},
   "outputs": [],
   "source": [
    "songByDay = nChurnedSongs.groupby(nChurnedSongs.date).count().orderBy(nChurnedSongs.date).select(col(\"date\").alias(\"date_a\"), col(\"count\").alias(\"qtdSongs\"))\n",
    "userByDay = nChurnedSongs.select(['date','userId']).dropDuplicates().groupby(nChurnedSongs.date).count().orderBy(nChurnedSongs.date).select(col(\"date\").alias(\"date_b\"), col(\"count\").alias(\"qtdUsers\"))"
   ]
  },
  {
   "cell_type": "code",
   "execution_count": 30,
   "metadata": {},
   "outputs": [],
   "source": [
    "songsByUserDay = songByDay.join(userByDay, songByDay.date_a == userByDay.date_b, 'left').orderBy(songByDay.date_a)\n",
    "songsByUserDay = songsByUserDay.withColumn(\"songs_user\", songsByUserDay.qtdSongs/songsByUserDay.qtdUsers).drop(songsByUserDay.date_b)"
   ]
  },
  {
   "cell_type": "code",
   "execution_count": 31,
   "metadata": {},
   "outputs": [],
   "source": [
    "pdSongsDayNChurn = songsByUserDay.toPandas()"
   ]
  },
  {
   "cell_type": "code",
   "execution_count": 32,
   "metadata": {},
   "outputs": [
    {
     "data": {
      "text/html": [
       "<div>\n",
       "<style scoped>\n",
       "    .dataframe tbody tr th:only-of-type {\n",
       "        vertical-align: middle;\n",
       "    }\n",
       "\n",
       "    .dataframe tbody tr th {\n",
       "        vertical-align: top;\n",
       "    }\n",
       "\n",
       "    .dataframe thead th {\n",
       "        text-align: right;\n",
       "    }\n",
       "</style>\n",
       "<table border=\"1\" class=\"dataframe\">\n",
       "  <thead>\n",
       "    <tr style=\"text-align: right;\">\n",
       "      <th></th>\n",
       "      <th>date_a</th>\n",
       "      <th>qtdSongs</th>\n",
       "      <th>qtdUsers</th>\n",
       "      <th>songs_user</th>\n",
       "    </tr>\n",
       "  </thead>\n",
       "  <tbody>\n",
       "    <tr>\n",
       "      <th>0</th>\n",
       "      <td>2018-10-01</td>\n",
       "      <td>3070</td>\n",
       "      <td>47</td>\n",
       "      <td>65.319149</td>\n",
       "    </tr>\n",
       "    <tr>\n",
       "      <th>1</th>\n",
       "      <td>2018-10-02</td>\n",
       "      <td>2606</td>\n",
       "      <td>36</td>\n",
       "      <td>72.388889</td>\n",
       "    </tr>\n",
       "    <tr>\n",
       "      <th>2</th>\n",
       "      <td>2018-10-03</td>\n",
       "      <td>2157</td>\n",
       "      <td>44</td>\n",
       "      <td>49.022727</td>\n",
       "    </tr>\n",
       "    <tr>\n",
       "      <th>3</th>\n",
       "      <td>2018-10-04</td>\n",
       "      <td>2918</td>\n",
       "      <td>46</td>\n",
       "      <td>63.434783</td>\n",
       "    </tr>\n",
       "    <tr>\n",
       "      <th>4</th>\n",
       "      <td>2018-10-05</td>\n",
       "      <td>2656</td>\n",
       "      <td>44</td>\n",
       "      <td>60.363636</td>\n",
       "    </tr>\n",
       "  </tbody>\n",
       "</table>\n",
       "</div>"
      ],
      "text/plain": [
       "       date_a  qtdSongs  qtdUsers  songs_user\n",
       "0  2018-10-01      3070        47   65.319149\n",
       "1  2018-10-02      2606        36   72.388889\n",
       "2  2018-10-03      2157        44   49.022727\n",
       "3  2018-10-04      2918        46   63.434783\n",
       "4  2018-10-05      2656        44   60.363636"
      ]
     },
     "execution_count": 32,
     "metadata": {},
     "output_type": "execute_result"
    }
   ],
   "source": [
    "pdSongsDayNChurn.head()"
   ]
  },
  {
   "cell_type": "code",
   "execution_count": 33,
   "metadata": {
    "scrolled": true
   },
   "outputs": [
    {
     "data": {
      "text/plain": [
       "<matplotlib.axes._subplots.AxesSubplot at 0x7f54901ca828>"
      ]
     },
     "execution_count": 33,
     "metadata": {},
     "output_type": "execute_result"
    },
    {
     "data": {
      "image/png": "[encoded data removed]",
      "text/plain": [
       "<matplotlib.figure.Figure at 0x7f5492a92fd0>"
      ]
     },
     "metadata": {
      "needs_background": "light"
     },
     "output_type": "display_data"
    }
   ],
   "source": [
    "pdSongsDayNChurn[['date_a','qtdSongs']].plot.line(figsize=(15,5))"
   ]
  },
  {
   "cell_type": "code",
   "execution_count": 34,
   "metadata": {
    "scrolled": false
   },
   "outputs": [
    {
     "data": {
      "text/plain": [
       "<matplotlib.axes._subplots.AxesSubplot at 0x7f5490136908>"
      ]
     },
     "execution_count": 34,
     "metadata": {},
     "output_type": "execute_result"
    },
    {
     "data": {
      "image/png": "[encoded data removed]",
      "text/plain": [
       "<matplotlib.figure.Figure at 0x7f549005c748>"
      ]
     },
     "metadata": {
      "needs_background": "light"
     },
     "output_type": "display_data"
    }
   ],
   "source": [
    "pdSongsDayNChurn[['date_a','qtdUsers']].plot.line(figsize=(15,5))"
   ]
  },
  {
   "cell_type": "code",
   "execution_count": 35,
   "metadata": {
    "scrolled": false
   },
   "outputs": [
    {
     "data": {
      "text/plain": [
       "<matplotlib.axes._subplots.AxesSubplot at 0x7f5489ff8048>"
      ]
     },
     "execution_count": 35,
     "metadata": {},
     "output_type": "execute_result"
    },
    {
     "data": {
      "image/png": "[encoded data removed]",
      "text/plain": [
       "<matplotlib.figure.Figure at 0x7f5490124b38>"
      ]
     },
     "metadata": {
      "needs_background": "light"
     },
     "output_type": "display_data"
    }
   ],
   "source": [
    "pdSongsDayNChurn[['date_a','songs_user']].plot.bar(figsize=(15,5))"
   ]
  },
  {
   "cell_type": "code",
   "execution_count": null,
   "metadata": {},
   "outputs": [],
   "source": []
  },
  {
   "cell_type": "markdown",
   "metadata": {},
   "source": [
    "#### Analise de churned por hora"
   ]
  },
  {
   "cell_type": "code",
   "execution_count": 36,
   "metadata": {},
   "outputs": [],
   "source": [
    "songByHour = churnedSongs.groupby(churnedSongs.hour).count().orderBy(churnedSongs.hour).select(col(\"hour\").alias(\"hour_a\"), col(\"count\").alias(\"qtdSongs\"))\n",
    "userByHour = churnedSongs.select(['hour','userId']).dropDuplicates().groupby(churnedSongs.hour).count().orderBy(churnedSongs.hour).select(col(\"hour\").alias(\"hour_b\"), col(\"count\").alias(\"qtdUsers\"))"
   ]
  },
  {
   "cell_type": "code",
   "execution_count": 37,
   "metadata": {},
   "outputs": [],
   "source": [
    "songsByUserHour = songByHour.join(userByHour, songByHour.hour_a == userByHour.hour_b, 'left').orderBy(songByHour.hour_a)\n",
    "songsByUserHour = songsByUserHour.withColumn(\"songs_user\", songsByUserHour.qtdSongs/songsByUserHour.qtdUsers).drop(songsByUserHour.hour_b)"
   ]
  },
  {
   "cell_type": "code",
   "execution_count": 38,
   "metadata": {},
   "outputs": [],
   "source": [
    "pdSongsHourChurn = songsByUserHour.toPandas()"
   ]
  },
  {
   "cell_type": "code",
   "execution_count": 39,
   "metadata": {},
   "outputs": [
    {
     "data": {
      "text/html": [
       "<div>\n",
       "<style scoped>\n",
       "    .dataframe tbody tr th:only-of-type {\n",
       "        vertical-align: middle;\n",
       "    }\n",
       "\n",
       "    .dataframe tbody tr th {\n",
       "        vertical-align: top;\n",
       "    }\n",
       "\n",
       "    .dataframe thead th {\n",
       "        text-align: right;\n",
       "    }\n",
       "</style>\n",
       "<table border=\"1\" class=\"dataframe\">\n",
       "  <thead>\n",
       "    <tr style=\"text-align: right;\">\n",
       "      <th></th>\n",
       "      <th>hour_a</th>\n",
       "      <th>qtdSongs</th>\n",
       "      <th>qtdUsers</th>\n",
       "      <th>songs_user</th>\n",
       "    </tr>\n",
       "  </thead>\n",
       "  <tbody>\n",
       "    <tr>\n",
       "      <th>0</th>\n",
       "      <td>0.0</td>\n",
       "      <td>1535</td>\n",
       "      <td>36</td>\n",
       "      <td>42.638889</td>\n",
       "    </tr>\n",
       "    <tr>\n",
       "      <th>1</th>\n",
       "      <td>1.0</td>\n",
       "      <td>1353</td>\n",
       "      <td>34</td>\n",
       "      <td>39.794118</td>\n",
       "    </tr>\n",
       "    <tr>\n",
       "      <th>2</th>\n",
       "      <td>2.0</td>\n",
       "      <td>1322</td>\n",
       "      <td>36</td>\n",
       "      <td>36.722222</td>\n",
       "    </tr>\n",
       "    <tr>\n",
       "      <th>3</th>\n",
       "      <td>3.0</td>\n",
       "      <td>1292</td>\n",
       "      <td>32</td>\n",
       "      <td>40.375000</td>\n",
       "    </tr>\n",
       "    <tr>\n",
       "      <th>4</th>\n",
       "      <td>4.0</td>\n",
       "      <td>1233</td>\n",
       "      <td>35</td>\n",
       "      <td>35.228571</td>\n",
       "    </tr>\n",
       "  </tbody>\n",
       "</table>\n",
       "</div>"
      ],
      "text/plain": [
       "   hour_a  qtdSongs  qtdUsers  songs_user\n",
       "0     0.0      1535        36   42.638889\n",
       "1     1.0      1353        34   39.794118\n",
       "2     2.0      1322        36   36.722222\n",
       "3     3.0      1292        32   40.375000\n",
       "4     4.0      1233        35   35.228571"
      ]
     },
     "execution_count": 39,
     "metadata": {},
     "output_type": "execute_result"
    }
   ],
   "source": [
    "pdSongsHourChurn.head()"
   ]
  },
  {
   "cell_type": "code",
   "execution_count": 40,
   "metadata": {
    "scrolled": true
   },
   "outputs": [
    {
     "data": {
      "text/plain": [
       "<matplotlib.axes._subplots.AxesSubplot at 0x7f5489e854e0>"
      ]
     },
     "execution_count": 40,
     "metadata": {},
     "output_type": "execute_result"
    },
    {
     "data": {
      "image/png": "[encoded data removed]",
      "text/plain": [
       "<matplotlib.figure.Figure at 0x7f5489e34f28>"
      ]
     },
     "metadata": {
      "needs_background": "light"
     },
     "output_type": "display_data"
    }
   ],
   "source": [
    "pdSongsHourChurn[['qtdSongs']].plot.line(figsize=(15,5))"
   ]
  },
  {
   "cell_type": "code",
   "execution_count": 41,
   "metadata": {
    "scrolled": false
   },
   "outputs": [
    {
     "data": {
      "text/plain": [
       "<matplotlib.axes._subplots.AxesSubplot at 0x7f5489e21780>"
      ]
     },
     "execution_count": 41,
     "metadata": {},
     "output_type": "execute_result"
    },
    {
     "data": {
      "image/png": "[encoded data removed]",
      "text/plain": [
       "<matplotlib.figure.Figure at 0x7f5489f33860>"
      ]
     },
     "metadata": {
      "needs_background": "light"
     },
     "output_type": "display_data"
    }
   ],
   "source": [
    "pdSongsHourChurn[['qtdUsers']].plot.line(figsize=(15,5))"
   ]
  },
  {
   "cell_type": "code",
   "execution_count": 42,
   "metadata": {
    "scrolled": false
   },
   "outputs": [
    {
     "data": {
      "text/plain": [
       "<matplotlib.axes._subplots.AxesSubplot at 0x7f5489fbe208>"
      ]
     },
     "execution_count": 42,
     "metadata": {},
     "output_type": "execute_result"
    },
    {
     "data": {
      "image/png": "[encoded data removed]",
      "text/plain": [
       "<matplotlib.figure.Figure at 0x7f5489d57c18>"
      ]
     },
     "metadata": {
      "needs_background": "light"
     },
     "output_type": "display_data"
    }
   ],
   "source": [
    "pdSongsHourChurn[['songs_user']].plot.bar(figsize=(15,5))"
   ]
  },
  {
   "cell_type": "markdown",
   "metadata": {},
   "source": [
    "#### Analise de nao churned por hora"
   ]
  },
  {
   "cell_type": "code",
   "execution_count": 43,
   "metadata": {},
   "outputs": [],
   "source": [
    "songByHour = nChurnedSongs.groupby(churnedSongs.hour).count().orderBy(churnedSongs.hour).select(col(\"hour\").alias(\"hour_a\"), col(\"count\").alias(\"qtdSongs\"))\n",
    "userByHour = nChurnedSongs.select(['hour','userId']).dropDuplicates().groupby(churnedSongs.hour).count().orderBy(churnedSongs.hour).select(col(\"hour\").alias(\"hour_b\"), col(\"count\").alias(\"qtdUsers\"))"
   ]
  },
  {
   "cell_type": "code",
   "execution_count": 44,
   "metadata": {},
   "outputs": [],
   "source": [
    "songsByUserHour = songByHour.join(userByHour, songByHour.hour_a == userByHour.hour_b, 'left').orderBy(songByHour.hour_a)\n",
    "songsByUserHour = songsByUserHour.withColumn(\"songs_user\", songsByUserHour.qtdSongs/songsByUserHour.qtdUsers).drop(songsByUserHour.hour_b)"
   ]
  },
  {
   "cell_type": "code",
   "execution_count": 45,
   "metadata": {},
   "outputs": [],
   "source": [
    "pdSongsHourNChurn = songsByUserHour.toPandas()"
   ]
  },
  {
   "cell_type": "code",
   "execution_count": 46,
   "metadata": {},
   "outputs": [
    {
     "data": {
      "text/html": [
       "<div>\n",
       "<style scoped>\n",
       "    .dataframe tbody tr th:only-of-type {\n",
       "        vertical-align: middle;\n",
       "    }\n",
       "\n",
       "    .dataframe tbody tr th {\n",
       "        vertical-align: top;\n",
       "    }\n",
       "\n",
       "    .dataframe thead th {\n",
       "        text-align: right;\n",
       "    }\n",
       "</style>\n",
       "<table border=\"1\" class=\"dataframe\">\n",
       "  <thead>\n",
       "    <tr style=\"text-align: right;\">\n",
       "      <th></th>\n",
       "      <th>hour_a</th>\n",
       "      <th>qtdSongs</th>\n",
       "      <th>qtdUsers</th>\n",
       "      <th>songs_user</th>\n",
       "    </tr>\n",
       "  </thead>\n",
       "  <tbody>\n",
       "    <tr>\n",
       "      <th>0</th>\n",
       "      <td>0.0</td>\n",
       "      <td>9181</td>\n",
       "      <td>137</td>\n",
       "      <td>67.014599</td>\n",
       "    </tr>\n",
       "    <tr>\n",
       "      <th>1</th>\n",
       "      <td>1.0</td>\n",
       "      <td>8679</td>\n",
       "      <td>138</td>\n",
       "      <td>62.891304</td>\n",
       "    </tr>\n",
       "    <tr>\n",
       "      <th>2</th>\n",
       "      <td>2.0</td>\n",
       "      <td>8626</td>\n",
       "      <td>140</td>\n",
       "      <td>61.614286</td>\n",
       "    </tr>\n",
       "    <tr>\n",
       "      <th>3</th>\n",
       "      <td>3.0</td>\n",
       "      <td>8714</td>\n",
       "      <td>139</td>\n",
       "      <td>62.690647</td>\n",
       "    </tr>\n",
       "    <tr>\n",
       "      <th>4</th>\n",
       "      <td>4.0</td>\n",
       "      <td>8512</td>\n",
       "      <td>137</td>\n",
       "      <td>62.131387</td>\n",
       "    </tr>\n",
       "  </tbody>\n",
       "</table>\n",
       "</div>"
      ],
      "text/plain": [
       "   hour_a  qtdSongs  qtdUsers  songs_user\n",
       "0     0.0      9181       137   67.014599\n",
       "1     1.0      8679       138   62.891304\n",
       "2     2.0      8626       140   61.614286\n",
       "3     3.0      8714       139   62.690647\n",
       "4     4.0      8512       137   62.131387"
      ]
     },
     "execution_count": 46,
     "metadata": {},
     "output_type": "execute_result"
    }
   ],
   "source": [
    "pdSongsHourNChurn.head()"
   ]
  },
  {
   "cell_type": "code",
   "execution_count": 47,
   "metadata": {
    "scrolled": true
   },
   "outputs": [
    {
     "data": {
      "text/plain": [
       "<matplotlib.axes._subplots.AxesSubplot at 0x7f5489d285c0>"
      ]
     },
     "execution_count": 47,
     "metadata": {},
     "output_type": "execute_result"
    },
    {
     "data": {
      "image/png": "[encoded data removed]",
      "text/plain": [
       "<matplotlib.figure.Figure at 0x7f5489c5c4e0>"
      ]
     },
     "metadata": {
      "needs_background": "light"
     },
     "output_type": "display_data"
    }
   ],
   "source": [
    "pdSongsHourNChurn[['qtdSongs']].plot.line(figsize=(15,5))"
   ]
  },
  {
   "cell_type": "code",
   "execution_count": 48,
   "metadata": {
    "scrolled": false
   },
   "outputs": [
    {
     "data": {
      "text/plain": [
       "<matplotlib.axes._subplots.AxesSubplot at 0x7f5489c3fb38>"
      ]
     },
     "execution_count": 48,
     "metadata": {},
     "output_type": "execute_result"
    },
    {
     "data": {
      "image/png": "[encoded data removed]",
      "text/plain": [
       "<matplotlib.figure.Figure at 0x7f5489c50a20>"
      ]
     },
     "metadata": {
      "needs_background": "light"
     },
     "output_type": "display_data"
    }
   ],
   "source": [
    "pdSongsHourNChurn[['qtdUsers']].plot.line(figsize=(15,5))"
   ]
  },
  {
   "cell_type": "code",
   "execution_count": 49,
   "metadata": {
    "scrolled": true
   },
   "outputs": [
    {
     "data": {
      "text/plain": [
       "<matplotlib.axes._subplots.AxesSubplot at 0x7f5489bf30b8>"
      ]
     },
     "execution_count": 49,
     "metadata": {},
     "output_type": "execute_result"
    },
    {
     "data": {
      "image/png": "[encoded data removed]",
      "text/plain": [
       "<matplotlib.figure.Figure at 0x7f5489c556a0>"
      ]
     },
     "metadata": {
      "needs_background": "light"
     },
     "output_type": "display_data"
    }
   ],
   "source": [
    "pdSongsHourNChurn[['songs_user']].plot.bar(figsize=(15,5))"
   ]
  },
  {
   "cell_type": "markdown",
   "metadata": {},
   "source": [
    "#### Analise de Thumbs Up/Down"
   ]
  },
  {
   "cell_type": "code",
   "execution_count": 50,
   "metadata": {},
   "outputs": [],
   "source": [
    "churnedTU = churnedDf.filter(churnedDf.page == 'Thumbs Up')\n",
    "nChurnedTU = nChurnedDf.filter(nChurnedDf.page == 'Thumbs Up')\n",
    "\n",
    "churnedTD = churnedDf.filter(churnedDf.page == 'Thumbs Down')\n",
    "nChurnedTD = nChurnedDf.filter(nChurnedDf.page == 'Thumbs Down')"
   ]
  },
  {
   "cell_type": "code",
   "execution_count": 51,
   "metadata": {},
   "outputs": [
    {
     "data": {
      "text/plain": [
       "35.75"
      ]
     },
     "execution_count": 51,
     "metadata": {},
     "output_type": "execute_result"
    }
   ],
   "source": [
    "# média de likes por usuario que churn\n",
    "churnedTU.count() / numUsersChurn"
   ]
  },
  {
   "cell_type": "code",
   "execution_count": 52,
   "metadata": {},
   "outputs": [
    {
     "data": {
      "text/plain": [
       "74.44508670520231"
      ]
     },
     "execution_count": 52,
     "metadata": {},
     "output_type": "execute_result"
    }
   ],
   "source": [
    "# média de likes por usuario que nao churn\n",
    "nChurnedTU.count() / numUsersNChurn"
   ]
  },
  {
   "cell_type": "code",
   "execution_count": 53,
   "metadata": {},
   "outputs": [
    {
     "data": {
      "text/plain": [
       "9.538461538461538"
      ]
     },
     "execution_count": 53,
     "metadata": {},
     "output_type": "execute_result"
    }
   ],
   "source": [
    "# média de dislikes por usuario que churn\n",
    "churnedTD.count() / numUsersChurn"
   ]
  },
  {
   "cell_type": "code",
   "execution_count": 54,
   "metadata": {},
   "outputs": [
    {
     "data": {
      "text/plain": [
       "14.878612716763005"
      ]
     },
     "execution_count": 54,
     "metadata": {},
     "output_type": "execute_result"
    }
   ],
   "source": [
    "# média de dislikes por usuario que nao churn\n",
    "nChurnedTD.count() / numUsersNChurn"
   ]
  },
  {
   "cell_type": "code",
   "execution_count": 55,
   "metadata": {},
   "outputs": [
    {
     "data": {
      "text/plain": [
       "0.05107984832664725"
      ]
     },
     "execution_count": 55,
     "metadata": {},
     "output_type": "execute_result"
    }
   ],
   "source": [
    "# média de likes por musica de usuarios churn\n",
    "churnedTU.count() / churnedSongs.count()"
   ]
  },
  {
   "cell_type": "code",
   "execution_count": 56,
   "metadata": {},
   "outputs": [
    {
     "data": {
      "text/plain": [
       "0.05452697982599124"
      ]
     },
     "execution_count": 56,
     "metadata": {},
     "output_type": "execute_result"
    }
   ],
   "source": [
    "# média de likes por musica de usuarios nao churn\n",
    "nChurnedTU.count() / nChurnedSongs.count()"
   ]
  },
  {
   "cell_type": "code",
   "execution_count": 57,
   "metadata": {},
   "outputs": [
    {
     "data": {
      "text/plain": [
       "0.013628620102214651"
      ]
     },
     "execution_count": 57,
     "metadata": {},
     "output_type": "execute_result"
    }
   ],
   "source": [
    "# média de dislikes por musica de usuarios churn\n",
    "churnedTD.count() / churnedSongs.count()"
   ]
  },
  {
   "cell_type": "code",
   "execution_count": 58,
   "metadata": {},
   "outputs": [
    {
     "data": {
      "text/plain": [
       "0.010897775143419632"
      ]
     },
     "execution_count": 58,
     "metadata": {},
     "output_type": "execute_result"
    }
   ],
   "source": [
    "# média de dislikes por musica de usuarios nao churn\n",
    "nChurnedTD.count() / nChurnedSongs.count()"
   ]
  },
  {
   "cell_type": "markdown",
   "metadata": {},
   "source": [
    "#### Analise de level"
   ]
  },
  {
   "cell_type": "code",
   "execution_count": 59,
   "metadata": {},
   "outputs": [
    {
     "name": "stdout",
     "output_type": "stream",
     "text": [
      "+-----+-----+\n",
      "|level|count|\n",
      "+-----+-----+\n",
      "| free|   21|\n",
      "| paid|   31|\n",
      "+-----+-----+\n",
      "\n"
     ]
    }
   ],
   "source": [
    "numChurnedLevel = churnedDf.filter(churnedDf.page == 'Cancellation Confirmation').groupby(churnedDf.level).count()\n",
    "numChurnedLevel.show()"
   ]
  },
  {
   "cell_type": "code",
   "execution_count": 60,
   "metadata": {
    "scrolled": true
   },
   "outputs": [
    {
     "name": "stdout",
     "output_type": "stream",
     "text": [
      "+--------------+\n",
      "|sum(downgrade)|\n",
      "+--------------+\n",
      "|             5|\n",
      "+--------------+\n",
      "\n"
     ]
    }
   ],
   "source": [
    "numChurnedLevelDown = churnedDf.filter(churnedDf.page == 'Cancellation Confirmation').filter(churnedDf.level=='free').agg(sum_(churnedDf.downgrade))\n",
    "numChurnedLevelDown.show()"
   ]
  },
  {
   "cell_type": "code",
   "execution_count": 61,
   "metadata": {
    "scrolled": true
   },
   "outputs": [],
   "source": [
    "# 60% dos usuários que cancelaram eram pagos e se considerar os que eram pagos mas fizeram downgrade sobe para 70%"
   ]
  },
  {
   "cell_type": "code",
   "execution_count": null,
   "metadata": {},
   "outputs": [],
   "source": []
  },
  {
   "cell_type": "markdown",
   "metadata": {},
   "source": [
    "#### Analise de tempo de registro"
   ]
  },
  {
   "cell_type": "code",
   "execution_count": 62,
   "metadata": {},
   "outputs": [],
   "source": [
    "churnedReg = churnedDf.groupBy(churnedDf.userId, churnedDf.registration).agg(max_(churnedDf.date))\n",
    "churnedReg = churnedReg.withColumn(\"regDate\", get_date(churnedReg.registration))\n",
    "churnedReg = churnedReg.withColumn(\"dateDiff\", datediff(col('max(date)'),col('regDate')))\n",
    "churnedReg = churnedReg.select(churnedReg.userId,churnedReg.dateDiff)\n",
    "pdChurnedReg = churnedReg.toPandas()"
   ]
  },
  {
   "cell_type": "code",
   "execution_count": 63,
   "metadata": {},
   "outputs": [
    {
     "data": {
      "text/plain": [
       "<matplotlib.axes._subplots.AxesSubplot at 0x7f5489af2940>"
      ]
     },
     "execution_count": 63,
     "metadata": {},
     "output_type": "execute_result"
    },
    {
     "data": {
      "image/png": "[encoded data removed]",
      "text/plain": [
       "<matplotlib.figure.Figure at 0x7f5489bfd1d0>"
      ]
     },
     "metadata": {
      "needs_background": "light"
     },
     "output_type": "display_data"
    }
   ],
   "source": [
    "pdChurnedReg[['dateDiff']].plot.hist(figsize=(15,5))"
   ]
  },
  {
   "cell_type": "code",
   "execution_count": 64,
   "metadata": {},
   "outputs": [],
   "source": [
    "nChurnedReg = nChurnedDf.groupBy(churnedDf.userId, churnedDf.registration).agg(max_(churnedDf.date))\n",
    "nChurnedReg = nChurnedReg.withColumn(\"regDate\", get_date(nChurnedReg.registration))\n",
    "nChurnedReg = nChurnedReg.withColumn(\"dateDiff\", datediff(col('max(date)'),col('regDate')))\n",
    "nChurnedReg = nChurnedReg.select(nChurnedReg.userId,nChurnedReg.dateDiff)\n",
    "pdNChurnedReg = nChurnedReg.toPandas()"
   ]
  },
  {
   "cell_type": "code",
   "execution_count": 65,
   "metadata": {},
   "outputs": [
    {
     "data": {
      "text/plain": [
       "<matplotlib.axes._subplots.AxesSubplot at 0x7f5489a2b400>"
      ]
     },
     "execution_count": 65,
     "metadata": {},
     "output_type": "execute_result"
    },
    {
     "data": {
      "image/png": "[encoded data removed]",
      "text/plain": [
       "<matplotlib.figure.Figure at 0x7f5489ab43c8>"
      ]
     },
     "metadata": {
      "needs_background": "light"
     },
     "output_type": "display_data"
    }
   ],
   "source": [
    "pdNChurnedReg[['dateDiff']].plot.hist(figsize=(15,5))"
   ]
  },
  {
   "cell_type": "markdown",
   "metadata": {},
   "source": [
    "#### Analise de amigos"
   ]
  },
  {
   "cell_type": "code",
   "execution_count": 66,
   "metadata": {},
   "outputs": [
    {
     "data": {
      "text/plain": [
       "12.23076923076923"
      ]
     },
     "execution_count": 66,
     "metadata": {},
     "output_type": "execute_result"
    }
   ],
   "source": [
    "churnedDf.filter(churnedDf.page=='Add Friend').count()/numUsersChurn"
   ]
  },
  {
   "cell_type": "code",
   "execution_count": 67,
   "metadata": {},
   "outputs": [
    {
     "data": {
      "text/plain": [
       "25.959537572254334"
      ]
     },
     "execution_count": 67,
     "metadata": {},
     "output_type": "execute_result"
    }
   ],
   "source": [
    "nChurnedDf.filter(nChurnedDf.page=='Add Friend').count()/numUsersNChurn"
   ]
  },
  {
   "cell_type": "markdown",
   "metadata": {},
   "source": [
    "# Feature Engineering\n",
    "Once you've familiarized yourself with the data, build out the features you find promising to train your model on. To work with the full dataset, you can follow the following steps.\n",
    "- Write a script to extract the necessary features from the smaller subset of data\n",
    "- Ensure that your script is scalable, using the best practices discussed in Lesson 3\n",
    "- Try your script on the full data set, debugging your script if necessary\n",
    "\n",
    "If you are working in the classroom workspace, you can just extract features based on the small subset of data contained here. Be sure to transfer over this work to the larger dataset when you work on your Spark cluster."
   ]
  },
  {
   "cell_type": "code",
   "execution_count": 68,
   "metadata": {},
   "outputs": [],
   "source": [
    "def prepare_dataset(df):\n",
    "    \"\"\"\n",
    "    Prepare the data to be able to run in the model.\n",
    "    After cleaning, the following attributes are created for each user:\n",
    "        songs: number of songs listened to by the user\n",
    "        avgThumbsDown: Average user thumbs down per song\n",
    "        level: most current user level (1=paid and 0=free)\n",
    "        downgrade: flag if the user has downgraded\n",
    "        dateDiffReg: difference in days between last user interaction and registration date\n",
    "        friends: number of friends on the platform\n",
    "        churn: class that identifies whether user churn or not\n",
    "        \n",
    "    input: df - raw dataframe os sparkify use\n",
    "    \n",
    "    output: dataframe of features to be used in model\n",
    "    \n",
    "    \"\"\"\n",
    "    get_date = udf(lambda x: datetime.datetime.fromtimestamp(x / 1000.0).strftime('%Y-%m-%d'))\n",
    "    get_level = udf(lambda x: 1 if x == 'paid' else 0)\n",
    "    \n",
    "    validUsers = df.filter(dfRaw.userId != \"\")\n",
    "    validUsers = validUsers.withColumn(\"date\", get_date(validUsers.ts))\n",
    "\n",
    "    numSongs = validUsers.filter(validUsers.page == 'NextSong').groupBy(validUsers.userId).agg(count(validUsers.page))\n",
    "    numSongs = numSongs.select(col('userId'),col('count(page)').alias('songs'))\n",
    "\n",
    "    numThumbsDown = validUsers.filter(churnedDf.page == 'Thumbs Down').groupBy(validUsers.userId).agg(count(validUsers.page))\n",
    "    numThumbsDown = numThumbsDown.select(col('userId'),col('count(page)').alias('thumbsDown'))\n",
    "\n",
    "    lastIteraction = validUsers.groupBy(validUsers.userId).agg(max_(validUsers.ts))\n",
    "    lastIteraction = lastIteraction.select(col('userId'), col('max(ts)').alias('ts'))\n",
    "    lastIteraction = lastIteraction.join(validUsers, ['userId','ts'], 'left')\n",
    "\n",
    "    lastLevel = lastIteraction.select(lastIteraction.userId, lastIteraction.level).dropDuplicates()\n",
    "    lastLevel = lastLevel.withColumn(\"level\", get_level(lastLevel.level).cast(IntegerType()))\n",
    "\n",
    "#     downgrade = validUsers.select(validUsers.userId, validUsers.downgrade).dropDuplicates().fillna(0)\n",
    "    downgrade = validUsers.filter(validUsers.page == 'Submit Downgrade').select('userId').dropDuplicates()\n",
    "    downgrade = downgrade.withColumn(\"downgrade\", lit(1))\n",
    "\n",
    "    daysReg = validUsers.groupBy(validUsers.userId, validUsers.registration).agg(max_(validUsers.date))\n",
    "    daysReg = daysReg.withColumn('regDate', get_date(daysReg.registration))\n",
    "    daysReg = daysReg.withColumn('dateDiffReg', datediff(col('max(date)'),col('regDate')))\n",
    "    daysReg = daysReg.select(daysReg.userId, daysReg.dateDiffReg)\n",
    "\n",
    "    numFriends = validUsers.filter(validUsers.page=='Add Friend').groupBy(validUsers.userId).agg(count(validUsers.page))\n",
    "    numFriends = numFriends.select(col('userId'),col('count(page)').alias('friends'))\n",
    "\n",
    "    final = numSongs.join(numThumbsDown, ['userId'], 'left')\n",
    "    final = final.withColumn('avgThumbsDown', round_(final.thumbsDown/final.songs,5))\n",
    "    final = final.join(lastLevel, ['userId'], 'left')\n",
    "    final = final.join(downgrade, ['userId'], 'left')\n",
    "    final = final.join(daysReg, ['userId'], 'left')\n",
    "    final = final.join(numFriends, ['userId'], 'left')\n",
    "    final = final.join(churnUsers, final.userId == churnUsers.userId_a, 'left')\n",
    "\n",
    "    final = final.drop(final.thumbsDown)\n",
    "    final = final.drop(final.userId_a)\n",
    "    final = final.fillna(0)\n",
    "\n",
    "    return final"
   ]
  },
  {
   "cell_type": "code",
   "execution_count": 69,
   "metadata": {},
   "outputs": [],
   "source": [
    "dfSparkify = prepare_dataset(dfRaw)"
   ]
  },
  {
   "cell_type": "code",
   "execution_count": 70,
   "metadata": {},
   "outputs": [
    {
     "name": "stdout",
     "output_type": "stream",
     "text": [
      "+------+-----+-------------+-----+---------+-----------+-------+-----+\n",
      "|userId|songs|avgThumbsDown|level|downgrade|dateDiffReg|friends|churn|\n",
      "+------+-----+-------------+-----+---------+-----------+-------+-----+\n",
      "|100010|  275|      0.01818|    0|        0|         55|      4|    0|\n",
      "|200002|  387|       0.0155|    1|        0|         70|      4|    0|\n",
      "|   125|    8|          0.0|    0|        0|         72|      0|    1|\n",
      "|   124| 4079|      0.01005|    1|        0|        131|     74|    0|\n",
      "|    51| 2111|      0.00995|    1|        0|         20|     28|    1|\n",
      "+------+-----+-------------+-----+---------+-----------+-------+-----+\n",
      "only showing top 5 rows\n",
      "\n"
     ]
    }
   ],
   "source": [
    "dfSparkify.show(5)"
   ]
  },
  {
   "cell_type": "markdown",
   "metadata": {},
   "source": [
    "# Modeling\n",
    "Split the full dataset into train, test, and validation sets. Test out several of the machine learning methods you learned. Evaluate the accuracy of the various models, tuning parameters as necessary. Determine your winning model based on test accuracy and report results on the validation set. Since the churned users are a fairly small subset, I suggest using F1 score as the metric to optimize."
   ]
  },
  {
   "cell_type": "code",
   "execution_count": 71,
   "metadata": {},
   "outputs": [],
   "source": [
    "def scale_features(df):\n",
    "    \"\"\"\n",
    "    Transform coluns into features using VectorAssembler and StandartScale.\n",
    "    \n",
    "    input: df - prepeared dataframe of sparkify users.\n",
    "    \n",
    "    output: dataframe with scaled features and a label \n",
    "    \n",
    "    \"\"\"\n",
    "    \n",
    "    ls_features = df.columns[1:-1]\n",
    "    \n",
    "    assembler = VectorAssembler(inputCols=ls_features, outputCol='features', handleInvalid = 'skip')\n",
    "    dfVector = assembler.transform(dfSparkify)\n",
    "    \n",
    "    scaler = StandardScaler(inputCol='features', outputCol='sc_features', withMean=True, withStd=True)\n",
    "    scaler_fit = scaler.fit(dfVector) \n",
    "    \n",
    "    df_result = scaler_fit.transform(dfVector)\n",
    "    \n",
    "    return df_result.select(df_result.sc_features.alias('features'), df_result.churn.alias('label'))\n",
    "    "
   ]
  },
  {
   "cell_type": "code",
   "execution_count": 72,
   "metadata": {},
   "outputs": [],
   "source": [
    "train, test = scale_features(dfSparkify).randomSplit([0.8, 0.2], seed=42)"
   ]
  },
  {
   "cell_type": "code",
   "execution_count": 91,
   "metadata": {},
   "outputs": [],
   "source": [
    "def evaluate_model(result):\n",
    "    \"\"\"\n",
    "    Returns Accuracy and F1 score of the predicted dataset\n",
    "    \n",
    "    input: result - predicted dataset\n",
    "    \n",
    "    outputs: accuracy - accuracy of the predicted dataset\n",
    "             f1 - F1 score of the predicted dataset\n",
    "    \n",
    "    \"\"\"\n",
    "    \n",
    "    # Evaluation\n",
    "    eval_accuracy = MulticlassClassificationEvaluator(metricName='accuracy')\n",
    "    eval_f1 = MulticlassClassificationEvaluator(metricName='f1')\n",
    "\n",
    "    accuracy = eval_accuracy.evaluate(result.select(result.label, result.prediction))\n",
    "    f1 = eval_f1.evaluate(result.select(result.label, result.prediction))\n",
    "    \n",
    "    return accuracy, f1\n",
    "    "
   ]
  },
  {
   "cell_type": "code",
   "execution_count": 92,
   "metadata": {},
   "outputs": [],
   "source": [
    "def test_evaluate_models(train, test):\n",
    "    \"\"\"\n",
    "    Fits and evaluate models and prints the evaluation results.\n",
    "    \n",
    "    inputs: \n",
    "        train - train dataframe\n",
    "        test - test dataframe    \n",
    "    \n",
    "    \"\"\"\n",
    "    \n",
    "    lsModels = [LogisticRegression(), RandomForestClassifier(), GBTClassifier()]\n",
    "    \n",
    "    for ml in lsModels:\n",
    "          \n",
    "        model = ml.fit(train)\n",
    "        predict = model.transform(test)\n",
    "\n",
    "        accuracy, f1 = evaluate_model(predict)\n",
    "\n",
    "        print(f'==== {ml.__class__.__name__} ====')\n",
    "        print(f'   Accuracy: {accuracy}')\n",
    "        print(f'   F1 score: {f1}')\n",
    "        print('')\n",
    "    "
   ]
  },
  {
   "cell_type": "code",
   "execution_count": 93,
   "metadata": {},
   "outputs": [
    {
     "name": "stdout",
     "output_type": "stream",
     "text": [
      "==== LogisticRegression ====\n",
      "   Accuracy: 0.7941176470588235\n",
      "   F1 score: 0.7517893870835047\n",
      "\n",
      "==== RandomForestClassifier ====\n",
      "   Accuracy: 0.8823529411764706\n",
      "   F1 score: 0.8721719457013575\n",
      "\n",
      "==== GBTClassifier ====\n",
      "   Accuracy: 0.6176470588235294\n",
      "   F1 score: 0.5719570847206807\n",
      "\n"
     ]
    }
   ],
   "source": [
    "test_evaluate_models(train, test)"
   ]
  },
  {
   "cell_type": "code",
   "execution_count": 97,
   "metadata": {},
   "outputs": [],
   "source": [
    "def tune_model(ml, train, test):\n",
    "    \"\"\"\n",
    "    Uses the ParamGridBuilder and CrossValidator to tune the LogisticRegression model with the best parameters.\n",
    "    \n",
    "    inputs: \n",
    "        train - train dataframe\n",
    "        test - test dataframe\n",
    "    \n",
    "    \"\"\"\n",
    "    if ml == 'LogisticRegression':\n",
    "        \n",
    "        model = LogisticRegression()\n",
    "\n",
    "        paramGrid = ParamGridBuilder() \\\n",
    "                    .addGrid(model.elasticNetParam,[0.0, 0.1, 0.5, 1.0]) \\\n",
    "                    .addGrid(model.regParam,[0.0, 0.05, 0.1]) \\\n",
    "                    .build()\n",
    "    elif ml == 'RandomForestClassifier':\n",
    "        \n",
    "        model = RandomForestClassifier()\n",
    "    \n",
    "        paramGrid = ParamGridBuilder() \\\n",
    "                 .addGrid(rf.maxDepth, [2, 5, 10, 25]) \\\n",
    "                 .addGrid(rf.maxBins, [10, 20, 50, 100]) \\\n",
    "                 .addGrid(rf.numTrees, [5, 20, 50, 100]) \\\n",
    "                 .build()\n",
    "    else:\n",
    "        print('Model not found. Try LogisticRegression or RandomForestClassifier')\n",
    "\n",
    "    \n",
    "    crossval = CrossValidator(estimator = model,\n",
    "                              estimatorParamMaps = paramGrid,\n",
    "                              evaluator = MulticlassClassificationEvaluator(metricName='f1'),\n",
    "                              numFolds = 3)\n",
    "\n",
    "    cvModel = crossval.fit(train)\n",
    "    bestModel = cvModel.bestModel\n",
    "    \n",
    "    print(f'==== {model.__class__.__name__} avgMetrics ====')\n",
    "    print(cvModel.avgMetrics)\n",
    "    \n",
    "    prediction = cvModel.transform(test)\n",
    "    \n",
    "    lr_accuracy, lr_f1 = evaluate_model(prediction)\n",
    "    print(f'---- Tuned {model.__class__.__name__} ----')\n",
    "    print(f'   Accuracy: {lr_accuracy}')\n",
    "    print(f'   F1 score: {lr_f1}')\n",
    "    \n",
    "    return bestModel"
   ]
  },
  {
   "cell_type": "code",
   "execution_count": null,
   "metadata": {},
   "outputs": [],
   "source": [
    "bestLR = tune_model('LogisticRegression', train, test)"
   ]
  },
  {
   "cell_type": "code",
   "execution_count": null,
   "metadata": {},
   "outputs": [],
   "source": [
    "bestRF = tune_model('RandomForestClassifier', train, test)"
   ]
  },
  {
   "cell_type": "code",
   "execution_count": null,
   "metadata": {},
   "outputs": [],
   "source": []
  },
  {
   "cell_type": "markdown",
   "metadata": {},
   "source": [
    "# Final Steps\n",
    "Clean up your code, adding comments and renaming variables to make the code easier to read and maintain. Refer to the Spark Project Overview page and Data Scientist Capstone Project Rubric to make sure you are including all components of the capstone project and meet all expectations. Remember, this includes thorough documentation in a README file in a Github repository, as well as a web app or blog post."
   ]
  },
  {
   "cell_type": "code",
   "execution_count": null,
   "metadata": {},
   "outputs": [],
   "source": []
  }
 ],
 "metadata": {
  "kernelspec": {
   "display_name": "Python 3",
   "language": "python",
   "name": "python3"
  },
  "language_info": {
   "codemirror_mode": {
    "name": "ipython",
    "version": 3
   },
   "file_extension": ".py",
   "mimetype": "text/x-python",
   "name": "python",
   "nbconvert_exporter": "python",
   "pygments_lexer": "ipython3",
   "version": "3.6.3"
  }
 },
 "nbformat": 4,
 "nbformat_minor": 2
}
